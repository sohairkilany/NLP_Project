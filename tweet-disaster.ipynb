{
 "cells": [
  {
   "cell_type": "code",
   "execution_count": 1,
   "id": "9253d681",
   "metadata": {
    "execution": {
     "iopub.execute_input": "2021-12-12T14:39:14.289628Z",
     "iopub.status.busy": "2021-12-12T14:39:14.288668Z",
     "iopub.status.idle": "2021-12-12T14:39:15.578565Z",
     "shell.execute_reply": "2021-12-12T14:39:15.577701Z",
     "shell.execute_reply.started": "2021-12-12T14:26:54.928775Z"
    },
    "papermill": {
     "duration": 1.34104,
     "end_time": "2021-12-12T14:39:15.578792",
     "exception": false,
     "start_time": "2021-12-12T14:39:14.237752",
     "status": "completed"
    },
    "tags": []
   },
   "outputs": [],
   "source": [
    "import numpy as np \n",
    "import pandas as pd \n",
    "import seaborn as sns\n",
    "import matplotlib.pyplot as plt\n",
    "from wordcloud import WordCloud\n",
    "from sklearn import feature_extraction, linear_model, model_selection, preprocessing\n",
    "\n",
    "#sklearn \n",
    "from sklearn.model_selection import train_test_split\n",
    "from sklearn.utils.class_weight import compute_sample_weight\n",
    "from sklearn.feature_extraction.text import CountVectorizer, TfidfVectorizer\n",
    "from sklearn.feature_extraction.text import TfidfTransformer\n",
    "from sklearn.metrics import accuracy_score, confusion_matrix\n",
    "from sklearn.pipeline import Pipeline\n",
    "from sklearn.naive_bayes import MultinomialNB\n",
    "from sklearn.linear_model import SGDClassifier\n",
    "\n",
    "# nlp preprocessing lib\n",
    "import gensim\n",
    "from gensim.utils import simple_preprocess\n",
    "from gensim.parsing.preprocessing import STOPWORDS\n",
    "import string \n",
    "punctation = string.punctuation\n",
    " "
   ]
  },
  {
   "cell_type": "markdown",
   "id": "e67f2d16",
   "metadata": {
    "papermill": {
     "duration": 0.052364,
     "end_time": "2021-12-12T14:39:15.688913",
     "exception": false,
     "start_time": "2021-12-12T14:39:15.636549",
     "status": "completed"
    },
    "tags": []
   },
   "source": [
    "**Loading the data**"
   ]
  },
  {
   "cell_type": "code",
   "execution_count": 2,
   "id": "a952eb53",
   "metadata": {
    "execution": {
     "iopub.execute_input": "2021-12-12T14:39:15.799654Z",
     "iopub.status.busy": "2021-12-12T14:39:15.798199Z",
     "iopub.status.idle": "2021-12-12T14:39:15.851480Z",
     "shell.execute_reply": "2021-12-12T14:39:15.850596Z",
     "shell.execute_reply.started": "2021-12-12T14:26:54.940024Z"
    },
    "papermill": {
     "duration": 0.11058,
     "end_time": "2021-12-12T14:39:15.851610",
     "exception": false,
     "start_time": "2021-12-12T14:39:15.741030",
     "status": "completed"
    },
    "tags": []
   },
   "outputs": [],
   "source": [
    "Tweet_df = pd.read_csv(\"/kaggle/input/nlp-getting-started/train.csv\")"
   ]
  },
  {
   "cell_type": "code",
   "execution_count": 3,
   "id": "6980bb7b",
   "metadata": {
    "execution": {
     "iopub.execute_input": "2021-12-12T14:39:15.922833Z",
     "iopub.status.busy": "2021-12-12T14:39:15.921064Z",
     "iopub.status.idle": "2021-12-12T14:39:15.923458Z",
     "shell.execute_reply": "2021-12-12T14:39:15.923946Z",
     "shell.execute_reply.started": "2021-12-12T14:26:54.985183Z"
    },
    "papermill": {
     "duration": 0.040429,
     "end_time": "2021-12-12T14:39:15.924102",
     "exception": false,
     "start_time": "2021-12-12T14:39:15.883673",
     "status": "completed"
    },
    "tags": []
   },
   "outputs": [],
   "source": [
    "Tweet_d_copy= Tweet_df.copy()"
   ]
  },
  {
   "cell_type": "code",
   "execution_count": 4,
   "id": "899e1555",
   "metadata": {
    "execution": {
     "iopub.execute_input": "2021-12-12T14:39:16.002274Z",
     "iopub.status.busy": "2021-12-12T14:39:16.001521Z",
     "iopub.status.idle": "2021-12-12T14:39:16.016655Z",
     "shell.execute_reply": "2021-12-12T14:39:16.017165Z",
     "shell.execute_reply.started": "2021-12-12T14:26:54.992931Z"
    },
    "papermill": {
     "duration": 0.05775,
     "end_time": "2021-12-12T14:39:16.017333",
     "exception": false,
     "start_time": "2021-12-12T14:39:15.959583",
     "status": "completed"
    },
    "tags": []
   },
   "outputs": [
    {
     "data": {
      "text/html": [
       "<div>\n",
       "<style scoped>\n",
       "    .dataframe tbody tr th:only-of-type {\n",
       "        vertical-align: middle;\n",
       "    }\n",
       "\n",
       "    .dataframe tbody tr th {\n",
       "        vertical-align: top;\n",
       "    }\n",
       "\n",
       "    .dataframe thead th {\n",
       "        text-align: right;\n",
       "    }\n",
       "</style>\n",
       "<table border=\"1\" class=\"dataframe\">\n",
       "  <thead>\n",
       "    <tr style=\"text-align: right;\">\n",
       "      <th></th>\n",
       "      <th>id</th>\n",
       "      <th>keyword</th>\n",
       "      <th>location</th>\n",
       "      <th>text</th>\n",
       "      <th>target</th>\n",
       "    </tr>\n",
       "  </thead>\n",
       "  <tbody>\n",
       "    <tr>\n",
       "      <th>0</th>\n",
       "      <td>1</td>\n",
       "      <td>NaN</td>\n",
       "      <td>NaN</td>\n",
       "      <td>Our Deeds are the Reason of this #earthquake M...</td>\n",
       "      <td>1</td>\n",
       "    </tr>\n",
       "    <tr>\n",
       "      <th>1</th>\n",
       "      <td>4</td>\n",
       "      <td>NaN</td>\n",
       "      <td>NaN</td>\n",
       "      <td>Forest fire near La Ronge Sask. Canada</td>\n",
       "      <td>1</td>\n",
       "    </tr>\n",
       "    <tr>\n",
       "      <th>2</th>\n",
       "      <td>5</td>\n",
       "      <td>NaN</td>\n",
       "      <td>NaN</td>\n",
       "      <td>All residents asked to 'shelter in place' are ...</td>\n",
       "      <td>1</td>\n",
       "    </tr>\n",
       "    <tr>\n",
       "      <th>3</th>\n",
       "      <td>6</td>\n",
       "      <td>NaN</td>\n",
       "      <td>NaN</td>\n",
       "      <td>13,000 people receive #wildfires evacuation or...</td>\n",
       "      <td>1</td>\n",
       "    </tr>\n",
       "    <tr>\n",
       "      <th>4</th>\n",
       "      <td>7</td>\n",
       "      <td>NaN</td>\n",
       "      <td>NaN</td>\n",
       "      <td>Just got sent this photo from Ruby #Alaska as ...</td>\n",
       "      <td>1</td>\n",
       "    </tr>\n",
       "  </tbody>\n",
       "</table>\n",
       "</div>"
      ],
      "text/plain": [
       "   id keyword location                                               text  \\\n",
       "0   1     NaN      NaN  Our Deeds are the Reason of this #earthquake M...   \n",
       "1   4     NaN      NaN             Forest fire near La Ronge Sask. Canada   \n",
       "2   5     NaN      NaN  All residents asked to 'shelter in place' are ...   \n",
       "3   6     NaN      NaN  13,000 people receive #wildfires evacuation or...   \n",
       "4   7     NaN      NaN  Just got sent this photo from Ruby #Alaska as ...   \n",
       "\n",
       "   target  \n",
       "0       1  \n",
       "1       1  \n",
       "2       1  \n",
       "3       1  \n",
       "4       1  "
      ]
     },
     "execution_count": 4,
     "metadata": {},
     "output_type": "execute_result"
    }
   ],
   "source": [
    "Tweet_df.head()"
   ]
  },
  {
   "cell_type": "code",
   "execution_count": 5,
   "id": "ee91efda",
   "metadata": {
    "execution": {
     "iopub.execute_input": "2021-12-12T14:39:16.098290Z",
     "iopub.status.busy": "2021-12-12T14:39:16.096996Z",
     "iopub.status.idle": "2021-12-12T14:39:16.101062Z",
     "shell.execute_reply": "2021-12-12T14:39:16.100527Z",
     "shell.execute_reply.started": "2021-12-12T14:26:55.007745Z"
    },
    "papermill": {
     "duration": 0.04895,
     "end_time": "2021-12-12T14:39:16.101196",
     "exception": false,
     "start_time": "2021-12-12T14:39:16.052246",
     "status": "completed"
    },
    "tags": []
   },
   "outputs": [
    {
     "data": {
      "text/plain": [
       "61"
      ]
     },
     "execution_count": 5,
     "metadata": {},
     "output_type": "execute_result"
    }
   ],
   "source": [
    "Tweet_df['keyword'].isna().sum()"
   ]
  },
  {
   "cell_type": "code",
   "execution_count": 6,
   "id": "4668246d",
   "metadata": {
    "execution": {
     "iopub.execute_input": "2021-12-12T14:39:16.182845Z",
     "iopub.status.busy": "2021-12-12T14:39:16.181818Z",
     "iopub.status.idle": "2021-12-12T14:39:16.183895Z",
     "shell.execute_reply": "2021-12-12T14:39:16.184373Z",
     "shell.execute_reply.started": "2021-12-12T14:26:55.019556Z"
    },
    "papermill": {
     "duration": 0.047965,
     "end_time": "2021-12-12T14:39:16.184532",
     "exception": false,
     "start_time": "2021-12-12T14:39:16.136567",
     "status": "completed"
    },
    "tags": []
   },
   "outputs": [],
   "source": [
    "Tweet_df = Tweet_df.drop(['id', 'keyword', 'location'], axis = 1)\n"
   ]
  },
  {
   "cell_type": "code",
   "execution_count": 7,
   "id": "123c2feb",
   "metadata": {
    "execution": {
     "iopub.execute_input": "2021-12-12T14:39:16.261058Z",
     "iopub.status.busy": "2021-12-12T14:39:16.260120Z",
     "iopub.status.idle": "2021-12-12T14:39:16.265529Z",
     "shell.execute_reply": "2021-12-12T14:39:16.265017Z",
     "shell.execute_reply.started": "2021-12-12T14:26:55.028440Z"
    },
    "papermill": {
     "duration": 0.045973,
     "end_time": "2021-12-12T14:39:16.265657",
     "exception": false,
     "start_time": "2021-12-12T14:39:16.219684",
     "status": "completed"
    },
    "tags": []
   },
   "outputs": [
    {
     "data": {
      "text/plain": [
       "(7613, 2)"
      ]
     },
     "execution_count": 7,
     "metadata": {},
     "output_type": "execute_result"
    }
   ],
   "source": [
    "Tweet_df.shape"
   ]
  },
  {
   "cell_type": "code",
   "execution_count": 8,
   "id": "94eac3db",
   "metadata": {
    "execution": {
     "iopub.execute_input": "2021-12-12T14:39:16.340006Z",
     "iopub.status.busy": "2021-12-12T14:39:16.339311Z",
     "iopub.status.idle": "2021-12-12T14:39:16.342498Z",
     "shell.execute_reply": "2021-12-12T14:39:16.342965Z",
     "shell.execute_reply.started": "2021-12-12T14:26:55.041881Z"
    },
    "papermill": {
     "duration": 0.041847,
     "end_time": "2021-12-12T14:39:16.343112",
     "exception": false,
     "start_time": "2021-12-12T14:39:16.301265",
     "status": "completed"
    },
    "tags": []
   },
   "outputs": [
    {
     "data": {
      "text/plain": [
       "Index(['text', 'target'], dtype='object')"
      ]
     },
     "execution_count": 8,
     "metadata": {},
     "output_type": "execute_result"
    }
   ],
   "source": [
    "Tweet_df.columns"
   ]
  },
  {
   "cell_type": "code",
   "execution_count": 9,
   "id": "e30962bd",
   "metadata": {
    "execution": {
     "iopub.execute_input": "2021-12-12T14:39:16.426327Z",
     "iopub.status.busy": "2021-12-12T14:39:16.425571Z",
     "iopub.status.idle": "2021-12-12T14:39:16.429085Z",
     "shell.execute_reply": "2021-12-12T14:39:16.429734Z",
     "shell.execute_reply.started": "2021-12-12T14:26:55.050571Z"
    },
    "papermill": {
     "duration": 0.054811,
     "end_time": "2021-12-12T14:39:16.429928",
     "exception": false,
     "start_time": "2021-12-12T14:39:16.375117",
     "status": "completed"
    },
    "tags": []
   },
   "outputs": [
    {
     "name": "stdout",
     "output_type": "stream",
     "text": [
      "<class 'pandas.core.frame.DataFrame'>\n",
      "RangeIndex: 7613 entries, 0 to 7612\n",
      "Data columns (total 2 columns):\n",
      " #   Column  Non-Null Count  Dtype \n",
      "---  ------  --------------  ----- \n",
      " 0   text    7613 non-null   object\n",
      " 1   target  7613 non-null   int64 \n",
      "dtypes: int64(1), object(1)\n",
      "memory usage: 119.1+ KB\n"
     ]
    }
   ],
   "source": [
    "Tweet_df.info()"
   ]
  },
  {
   "cell_type": "code",
   "execution_count": 10,
   "id": "0aa323b0",
   "metadata": {
    "execution": {
     "iopub.execute_input": "2021-12-12T14:39:16.499833Z",
     "iopub.status.busy": "2021-12-12T14:39:16.499260Z",
     "iopub.status.idle": "2021-12-12T14:39:16.506069Z",
     "shell.execute_reply": "2021-12-12T14:39:16.505485Z",
     "shell.execute_reply.started": "2021-12-12T14:26:55.071111Z"
    },
    "papermill": {
     "duration": 0.041984,
     "end_time": "2021-12-12T14:39:16.506190",
     "exception": false,
     "start_time": "2021-12-12T14:39:16.464206",
     "status": "completed"
    },
    "tags": []
   },
   "outputs": [
    {
     "data": {
      "text/plain": [
       "'Our Deeds are the Reason of this #earthquake May ALLAH Forgive us all'"
      ]
     },
     "execution_count": 10,
     "metadata": {},
     "output_type": "execute_result"
    }
   ],
   "source": [
    "Tweet_df[Tweet_df[\"target\"] == 1][\"text\"].values[0]\n"
   ]
  },
  {
   "cell_type": "code",
   "execution_count": 11,
   "id": "aa238c52",
   "metadata": {
    "execution": {
     "iopub.execute_input": "2021-12-12T14:39:16.575624Z",
     "iopub.status.busy": "2021-12-12T14:39:16.573491Z",
     "iopub.status.idle": "2021-12-12T14:39:16.578060Z",
     "shell.execute_reply": "2021-12-12T14:39:16.578455Z",
     "shell.execute_reply.started": "2021-12-12T14:26:55.082454Z"
    },
    "papermill": {
     "duration": 0.041084,
     "end_time": "2021-12-12T14:39:16.578581",
     "exception": false,
     "start_time": "2021-12-12T14:39:16.537497",
     "status": "completed"
    },
    "tags": []
   },
   "outputs": [
    {
     "data": {
      "text/plain": [
       "'Forest fire near La Ronge Sask. Canada'"
      ]
     },
     "execution_count": 11,
     "metadata": {},
     "output_type": "execute_result"
    }
   ],
   "source": [
    "Tweet_df[Tweet_df[\"target\"] == 1][\"text\"].values[1]"
   ]
  },
  {
   "cell_type": "code",
   "execution_count": 12,
   "id": "9d92929b",
   "metadata": {
    "execution": {
     "iopub.execute_input": "2021-12-12T14:39:16.646454Z",
     "iopub.status.busy": "2021-12-12T14:39:16.645736Z",
     "iopub.status.idle": "2021-12-12T14:39:16.652010Z",
     "shell.execute_reply": "2021-12-12T14:39:16.652381Z",
     "shell.execute_reply.started": "2021-12-12T14:26:55.094403Z"
    },
    "papermill": {
     "duration": 0.042745,
     "end_time": "2021-12-12T14:39:16.652508",
     "exception": false,
     "start_time": "2021-12-12T14:39:16.609763",
     "status": "completed"
    },
    "tags": []
   },
   "outputs": [
    {
     "name": "stdout",
     "output_type": "stream",
     "text": [
      "Number of duplicates in data : 92\n"
     ]
    }
   ],
   "source": [
    "print(\"Number of duplicates in data : {}\".format(len(Tweet_df[Tweet_df.duplicated()])))\n"
   ]
  },
  {
   "cell_type": "code",
   "execution_count": 13,
   "id": "83538361",
   "metadata": {
    "execution": {
     "iopub.execute_input": "2021-12-12T14:39:16.721394Z",
     "iopub.status.busy": "2021-12-12T14:39:16.720647Z",
     "iopub.status.idle": "2021-12-12T14:39:16.731551Z",
     "shell.execute_reply": "2021-12-12T14:39:16.731986Z",
     "shell.execute_reply.started": "2021-12-12T14:26:55.108411Z"
    },
    "papermill": {
     "duration": 0.047794,
     "end_time": "2021-12-12T14:39:16.732124",
     "exception": false,
     "start_time": "2021-12-12T14:39:16.684330",
     "status": "completed"
    },
    "tags": []
   },
   "outputs": [
    {
     "name": "stdout",
     "output_type": "stream",
     "text": [
      "Duplicated rows before remove them : \n"
     ]
    },
    {
     "data": {
      "text/html": [
       "<div>\n",
       "<style scoped>\n",
       "    .dataframe tbody tr th:only-of-type {\n",
       "        vertical-align: middle;\n",
       "    }\n",
       "\n",
       "    .dataframe tbody tr th {\n",
       "        vertical-align: top;\n",
       "    }\n",
       "\n",
       "    .dataframe thead th {\n",
       "        text-align: right;\n",
       "    }\n",
       "</style>\n",
       "<table border=\"1\" class=\"dataframe\">\n",
       "  <thead>\n",
       "    <tr style=\"text-align: right;\">\n",
       "      <th></th>\n",
       "      <th>text</th>\n",
       "      <th>target</th>\n",
       "    </tr>\n",
       "  </thead>\n",
       "  <tbody>\n",
       "    <tr>\n",
       "      <th>4299</th>\n",
       "      <td>#Allah describes piling up #wealth thinking it...</td>\n",
       "      <td>0</td>\n",
       "    </tr>\n",
       "    <tr>\n",
       "      <th>4290</th>\n",
       "      <td>#Allah describes piling up #wealth thinking it...</td>\n",
       "      <td>0</td>\n",
       "    </tr>\n",
       "    <tr>\n",
       "      <th>6373</th>\n",
       "      <td>#Bestnaijamade: 16yr old PKK suicide bomber wh...</td>\n",
       "      <td>1</td>\n",
       "    </tr>\n",
       "    <tr>\n",
       "      <th>6363</th>\n",
       "      <td>#Bestnaijamade: 16yr old PKK suicide bomber wh...</td>\n",
       "      <td>1</td>\n",
       "    </tr>\n",
       "    <tr>\n",
       "      <th>6366</th>\n",
       "      <td>#Bestnaijamade: 16yr old PKK suicide bomber wh...</td>\n",
       "      <td>1</td>\n",
       "    </tr>\n",
       "    <tr>\n",
       "      <th>6377</th>\n",
       "      <td>#Bestnaijamade: 16yr old PKK suicide bomber wh...</td>\n",
       "      <td>1</td>\n",
       "    </tr>\n",
       "    <tr>\n",
       "      <th>6378</th>\n",
       "      <td>#Bestnaijamade: 16yr old PKK suicide bomber wh...</td>\n",
       "      <td>1</td>\n",
       "    </tr>\n",
       "    <tr>\n",
       "      <th>6392</th>\n",
       "      <td>#Bestnaijamade: 16yr old PKK suicide bomber wh...</td>\n",
       "      <td>1</td>\n",
       "    </tr>\n",
       "  </tbody>\n",
       "</table>\n",
       "</div>"
      ],
      "text/plain": [
       "                                                   text  target\n",
       "4299  #Allah describes piling up #wealth thinking it...       0\n",
       "4290  #Allah describes piling up #wealth thinking it...       0\n",
       "6373  #Bestnaijamade: 16yr old PKK suicide bomber wh...       1\n",
       "6363  #Bestnaijamade: 16yr old PKK suicide bomber wh...       1\n",
       "6366  #Bestnaijamade: 16yr old PKK suicide bomber wh...       1\n",
       "6377  #Bestnaijamade: 16yr old PKK suicide bomber wh...       1\n",
       "6378  #Bestnaijamade: 16yr old PKK suicide bomber wh...       1\n",
       "6392  #Bestnaijamade: 16yr old PKK suicide bomber wh...       1"
      ]
     },
     "execution_count": 13,
     "metadata": {},
     "output_type": "execute_result"
    }
   ],
   "source": [
    "print(\"Duplicated rows before remove them : \")\n",
    "Tweet_df[Tweet_df.duplicated(keep=False)].sort_values(by=\"text\").head(8)"
   ]
  },
  {
   "cell_type": "code",
   "execution_count": 14,
   "id": "8a84ff91",
   "metadata": {
    "execution": {
     "iopub.execute_input": "2021-12-12T14:39:16.802964Z",
     "iopub.status.busy": "2021-12-12T14:39:16.802216Z",
     "iopub.status.idle": "2021-12-12T14:39:16.807899Z",
     "shell.execute_reply": "2021-12-12T14:39:16.807435Z",
     "shell.execute_reply.started": "2021-12-12T14:26:55.128380Z"
    },
    "papermill": {
     "duration": 0.043445,
     "end_time": "2021-12-12T14:39:16.808011",
     "exception": false,
     "start_time": "2021-12-12T14:39:16.764566",
     "status": "completed"
    },
    "tags": []
   },
   "outputs": [],
   "source": [
    "#remove duplicated rows\n",
    "Tweet_df.drop_duplicates(inplace=True)"
   ]
  },
  {
   "cell_type": "code",
   "execution_count": 15,
   "id": "565d3244",
   "metadata": {
    "execution": {
     "iopub.execute_input": "2021-12-12T14:39:16.879335Z",
     "iopub.status.busy": "2021-12-12T14:39:16.878526Z",
     "iopub.status.idle": "2021-12-12T14:39:16.885534Z",
     "shell.execute_reply": "2021-12-12T14:39:16.885116Z",
     "shell.execute_reply.started": "2021-12-12T14:26:55.139512Z"
    },
    "papermill": {
     "duration": 0.04488,
     "end_time": "2021-12-12T14:39:16.885649",
     "exception": false,
     "start_time": "2021-12-12T14:39:16.840769",
     "status": "completed"
    },
    "tags": []
   },
   "outputs": [
    {
     "name": "stdout",
     "output_type": "stream",
     "text": [
      "Number of duplicates in data : 0\n"
     ]
    }
   ],
   "source": [
    "print(\"Number of duplicates in data : {}\".format(len(Tweet_df[Tweet_df.duplicated()])))\n"
   ]
  },
  {
   "cell_type": "code",
   "execution_count": 16,
   "id": "8201dd71",
   "metadata": {
    "execution": {
     "iopub.execute_input": "2021-12-12T14:39:16.966565Z",
     "iopub.status.busy": "2021-12-12T14:39:16.965496Z",
     "iopub.status.idle": "2021-12-12T14:39:16.969726Z",
     "shell.execute_reply": "2021-12-12T14:39:16.970186Z",
     "shell.execute_reply.started": "2021-12-12T14:26:55.152304Z"
    },
    "papermill": {
     "duration": 0.050163,
     "end_time": "2021-12-12T14:39:16.970355",
     "exception": false,
     "start_time": "2021-12-12T14:39:16.920192",
     "status": "completed"
    },
    "tags": []
   },
   "outputs": [
    {
     "data": {
      "text/plain": [
       "0    4315\n",
       "1    3206\n",
       "Name: target, dtype: int64"
      ]
     },
     "execution_count": 16,
     "metadata": {},
     "output_type": "execute_result"
    }
   ],
   "source": [
    "Tweet_df['target'].value_counts()"
   ]
  },
  {
   "cell_type": "code",
   "execution_count": 17,
   "id": "4984ea5f",
   "metadata": {
    "execution": {
     "iopub.execute_input": "2021-12-12T14:39:17.058187Z",
     "iopub.status.busy": "2021-12-12T14:39:17.057227Z",
     "iopub.status.idle": "2021-12-12T14:39:17.274116Z",
     "shell.execute_reply": "2021-12-12T14:39:17.273540Z",
     "shell.execute_reply.started": "2021-12-12T14:26:55.162100Z"
    },
    "papermill": {
     "duration": 0.263491,
     "end_time": "2021-12-12T14:39:17.274264",
     "exception": false,
     "start_time": "2021-12-12T14:39:17.010773",
     "status": "completed"
    },
    "tags": []
   },
   "outputs": [
    {
     "data": {
      "text/plain": [
       "Text(0.5, 0, 'Disaster Type')"
      ]
     },
     "execution_count": 17,
     "metadata": {},
     "output_type": "execute_result"
    },
    {
     "data": {
      "image/png": "[encoded data removed]",
      "text/plain": [
       "<Figure size 720x432 with 1 Axes>"
      ]
     },
     "metadata": {
      "needs_background": "light"
     },
     "output_type": "display_data"
    }
   ],
   "source": [
    "# count plot \"Histogram\" of Frequencies of Subjects for true news\n",
    "plt.figure(figsize=(10,6))\n",
    "plt.title(\"Frequencies of tweets for Disaster\")\n",
    "sns.countplot(x = 'target', data = Tweet_df)\n",
    "plt.xlabel('Disaster Type')"
   ]
  },
  {
   "cell_type": "code",
   "execution_count": 18,
   "id": "28231989",
   "metadata": {
    "execution": {
     "iopub.execute_input": "2021-12-12T14:39:17.363592Z",
     "iopub.status.busy": "2021-12-12T14:39:17.362345Z",
     "iopub.status.idle": "2021-12-12T14:39:17.366131Z",
     "shell.execute_reply": "2021-12-12T14:39:17.366535Z",
     "shell.execute_reply.started": "2021-12-12T14:26:55.346504Z"
    },
    "papermill": {
     "duration": 0.051973,
     "end_time": "2021-12-12T14:39:17.366684",
     "exception": false,
     "start_time": "2021-12-12T14:39:17.314711",
     "status": "completed"
    },
    "tags": []
   },
   "outputs": [
    {
     "data": {
      "text/html": [
       "<div>\n",
       "<style scoped>\n",
       "    .dataframe tbody tr th:only-of-type {\n",
       "        vertical-align: middle;\n",
       "    }\n",
       "\n",
       "    .dataframe tbody tr th {\n",
       "        vertical-align: top;\n",
       "    }\n",
       "\n",
       "    .dataframe thead th {\n",
       "        text-align: right;\n",
       "    }\n",
       "</style>\n",
       "<table border=\"1\" class=\"dataframe\">\n",
       "  <thead>\n",
       "    <tr style=\"text-align: right;\">\n",
       "      <th></th>\n",
       "      <th>text</th>\n",
       "      <th>target</th>\n",
       "    </tr>\n",
       "  </thead>\n",
       "  <tbody>\n",
       "    <tr>\n",
       "      <th>0</th>\n",
       "      <td>Our Deeds are the Reason of this #earthquake M...</td>\n",
       "      <td>1</td>\n",
       "    </tr>\n",
       "    <tr>\n",
       "      <th>1</th>\n",
       "      <td>Forest fire near La Ronge Sask. Canada</td>\n",
       "      <td>1</td>\n",
       "    </tr>\n",
       "    <tr>\n",
       "      <th>2</th>\n",
       "      <td>All residents asked to 'shelter in place' are ...</td>\n",
       "      <td>1</td>\n",
       "    </tr>\n",
       "    <tr>\n",
       "      <th>3</th>\n",
       "      <td>13,000 people receive #wildfires evacuation or...</td>\n",
       "      <td>1</td>\n",
       "    </tr>\n",
       "    <tr>\n",
       "      <th>4</th>\n",
       "      <td>Just got sent this photo from Ruby #Alaska as ...</td>\n",
       "      <td>1</td>\n",
       "    </tr>\n",
       "  </tbody>\n",
       "</table>\n",
       "</div>"
      ],
      "text/plain": [
       "                                                text  target\n",
       "0  Our Deeds are the Reason of this #earthquake M...       1\n",
       "1             Forest fire near La Ronge Sask. Canada       1\n",
       "2  All residents asked to 'shelter in place' are ...       1\n",
       "3  13,000 people receive #wildfires evacuation or...       1\n",
       "4  Just got sent this photo from Ruby #Alaska as ...       1"
      ]
     },
     "execution_count": 18,
     "metadata": {},
     "output_type": "execute_result"
    }
   ],
   "source": [
    "Real_Disaster_df = Tweet_df[Tweet_df['target'] == 1]\n",
    "Real_Disaster_df.head()"
   ]
  },
  {
   "cell_type": "code",
   "execution_count": 19,
   "id": "80dfe93c",
   "metadata": {
    "execution": {
     "iopub.execute_input": "2021-12-12T14:39:17.442342Z",
     "iopub.status.busy": "2021-12-12T14:39:17.441566Z",
     "iopub.status.idle": "2021-12-12T14:39:17.449281Z",
     "shell.execute_reply": "2021-12-12T14:39:17.448857Z",
     "shell.execute_reply.started": "2021-12-12T14:26:55.359841Z"
    },
    "papermill": {
     "duration": 0.046889,
     "end_time": "2021-12-12T14:39:17.449395",
     "exception": false,
     "start_time": "2021-12-12T14:39:17.402506",
     "status": "completed"
    },
    "tags": []
   },
   "outputs": [
    {
     "data": {
      "text/html": [
       "<div>\n",
       "<style scoped>\n",
       "    .dataframe tbody tr th:only-of-type {\n",
       "        vertical-align: middle;\n",
       "    }\n",
       "\n",
       "    .dataframe tbody tr th {\n",
       "        vertical-align: top;\n",
       "    }\n",
       "\n",
       "    .dataframe thead th {\n",
       "        text-align: right;\n",
       "    }\n",
       "</style>\n",
       "<table border=\"1\" class=\"dataframe\">\n",
       "  <thead>\n",
       "    <tr style=\"text-align: right;\">\n",
       "      <th></th>\n",
       "      <th>text</th>\n",
       "      <th>target</th>\n",
       "    </tr>\n",
       "  </thead>\n",
       "  <tbody>\n",
       "    <tr>\n",
       "      <th>15</th>\n",
       "      <td>What's up man?</td>\n",
       "      <td>0</td>\n",
       "    </tr>\n",
       "    <tr>\n",
       "      <th>16</th>\n",
       "      <td>I love fruits</td>\n",
       "      <td>0</td>\n",
       "    </tr>\n",
       "    <tr>\n",
       "      <th>17</th>\n",
       "      <td>Summer is lovely</td>\n",
       "      <td>0</td>\n",
       "    </tr>\n",
       "    <tr>\n",
       "      <th>18</th>\n",
       "      <td>My car is so fast</td>\n",
       "      <td>0</td>\n",
       "    </tr>\n",
       "    <tr>\n",
       "      <th>19</th>\n",
       "      <td>What a goooooooaaaaaal!!!!!!</td>\n",
       "      <td>0</td>\n",
       "    </tr>\n",
       "  </tbody>\n",
       "</table>\n",
       "</div>"
      ],
      "text/plain": [
       "                            text  target\n",
       "15                What's up man?       0\n",
       "16                 I love fruits       0\n",
       "17              Summer is lovely       0\n",
       "18             My car is so fast       0\n",
       "19  What a goooooooaaaaaal!!!!!!       0"
      ]
     },
     "execution_count": 19,
     "metadata": {},
     "output_type": "execute_result"
    }
   ],
   "source": [
    "Not_Real_Disaster_df = Tweet_df[Tweet_df['target'] == 0]\n",
    "Not_Real_Disaster_df.head()"
   ]
  },
  {
   "cell_type": "markdown",
   "id": "b7aad84f",
   "metadata": {
    "papermill": {
     "duration": 0.034089,
     "end_time": "2021-12-12T14:39:17.518066",
     "exception": false,
     "start_time": "2021-12-12T14:39:17.483977",
     "status": "completed"
    },
    "tags": []
   },
   "source": [
    "## **Text Preprocessing**"
   ]
  },
  {
   "cell_type": "code",
   "execution_count": 20,
   "id": "0b42276e",
   "metadata": {
    "execution": {
     "iopub.execute_input": "2021-12-12T14:39:17.595031Z",
     "iopub.status.busy": "2021-12-12T14:39:17.594105Z",
     "iopub.status.idle": "2021-12-12T14:39:17.595950Z",
     "shell.execute_reply": "2021-12-12T14:39:17.596390Z",
     "shell.execute_reply.started": "2021-12-12T14:26:55.371577Z"
    },
    "papermill": {
     "duration": 0.043341,
     "end_time": "2021-12-12T14:39:17.596516",
     "exception": false,
     "start_time": "2021-12-12T14:39:17.553175",
     "status": "completed"
    },
    "tags": []
   },
   "outputs": [],
   "source": [
    "# take text and preprocess 'remove stopwords [a, the, and, thus, ... etc] and punctations[,%$ ..etc] and len of text less than 3' \n",
    "def clean_text(text):\n",
    "    \"\"\"\n",
    "        text: a string \n",
    "        return: cleaned string\n",
    "    \"\"\"\n",
    "    result = []\n",
    "    for token in simple_preprocess(text):\n",
    "        if token not in STOPWORDS and token not in punctation and  len(token) >= 3 :\n",
    "            token = token.lower() \n",
    "            result.append(token)    \n",
    "    return \" \".join(result)"
   ]
  },
  {
   "cell_type": "code",
   "execution_count": 21,
   "id": "07200520",
   "metadata": {
    "execution": {
     "iopub.execute_input": "2021-12-12T14:39:17.684924Z",
     "iopub.status.busy": "2021-12-12T14:39:17.675410Z",
     "iopub.status.idle": "2021-12-12T14:39:18.015622Z",
     "shell.execute_reply": "2021-12-12T14:39:18.016313Z",
     "shell.execute_reply.started": "2021-12-12T14:26:55.384472Z"
    },
    "papermill": {
     "duration": 0.385171,
     "end_time": "2021-12-12T14:39:18.016488",
     "exception": false,
     "start_time": "2021-12-12T14:39:17.631317",
     "status": "completed"
    },
    "tags": []
   },
   "outputs": [
    {
     "data": {
      "text/html": [
       "<div>\n",
       "<style scoped>\n",
       "    .dataframe tbody tr th:only-of-type {\n",
       "        vertical-align: middle;\n",
       "    }\n",
       "\n",
       "    .dataframe tbody tr th {\n",
       "        vertical-align: top;\n",
       "    }\n",
       "\n",
       "    .dataframe thead th {\n",
       "        text-align: right;\n",
       "    }\n",
       "</style>\n",
       "<table border=\"1\" class=\"dataframe\">\n",
       "  <thead>\n",
       "    <tr style=\"text-align: right;\">\n",
       "      <th></th>\n",
       "      <th>text</th>\n",
       "      <th>target</th>\n",
       "    </tr>\n",
       "  </thead>\n",
       "  <tbody>\n",
       "    <tr>\n",
       "      <th>0</th>\n",
       "      <td>deeds reason earthquake allah forgive</td>\n",
       "      <td>1</td>\n",
       "    </tr>\n",
       "    <tr>\n",
       "      <th>1</th>\n",
       "      <td>forest near ronge sask canada</td>\n",
       "      <td>1</td>\n",
       "    </tr>\n",
       "    <tr>\n",
       "      <th>2</th>\n",
       "      <td>residents asked shelter place notified officer...</td>\n",
       "      <td>1</td>\n",
       "    </tr>\n",
       "    <tr>\n",
       "      <th>3</th>\n",
       "      <td>people receive wildfires evacuation orders cal...</td>\n",
       "      <td>1</td>\n",
       "    </tr>\n",
       "    <tr>\n",
       "      <th>4</th>\n",
       "      <td>got sent photo ruby alaska smoke wildfires pou...</td>\n",
       "      <td>1</td>\n",
       "    </tr>\n",
       "  </tbody>\n",
       "</table>\n",
       "</div>"
      ],
      "text/plain": [
       "                                                text  target\n",
       "0              deeds reason earthquake allah forgive       1\n",
       "1                      forest near ronge sask canada       1\n",
       "2  residents asked shelter place notified officer...       1\n",
       "3  people receive wildfires evacuation orders cal...       1\n",
       "4  got sent photo ruby alaska smoke wildfires pou...       1"
      ]
     },
     "execution_count": 21,
     "metadata": {},
     "output_type": "execute_result"
    }
   ],
   "source": [
    "Tweet_df['text'] = Tweet_df['text'].map(clean_text)\n",
    "Tweet_df.head()"
   ]
  },
  {
   "cell_type": "code",
   "execution_count": 22,
   "id": "c3fddb5a",
   "metadata": {
    "execution": {
     "iopub.execute_input": "2021-12-12T14:39:18.109783Z",
     "iopub.status.busy": "2021-12-12T14:39:18.104603Z",
     "iopub.status.idle": "2021-12-12T14:39:18.116883Z",
     "shell.execute_reply": "2021-12-12T14:39:18.116368Z",
     "shell.execute_reply.started": "2021-12-12T14:26:55.734951Z"
    },
    "papermill": {
     "duration": 0.05837,
     "end_time": "2021-12-12T14:39:18.117020",
     "exception": false,
     "start_time": "2021-12-12T14:39:18.058650",
     "status": "completed"
    },
    "tags": []
   },
   "outputs": [
    {
     "data": {
      "text/html": [
       "<div>\n",
       "<style scoped>\n",
       "    .dataframe tbody tr th:only-of-type {\n",
       "        vertical-align: middle;\n",
       "    }\n",
       "\n",
       "    .dataframe tbody tr th {\n",
       "        vertical-align: top;\n",
       "    }\n",
       "\n",
       "    .dataframe thead th {\n",
       "        text-align: right;\n",
       "    }\n",
       "</style>\n",
       "<table border=\"1\" class=\"dataframe\">\n",
       "  <thead>\n",
       "    <tr style=\"text-align: right;\">\n",
       "      <th></th>\n",
       "      <th>text</th>\n",
       "      <th>target</th>\n",
       "    </tr>\n",
       "  </thead>\n",
       "  <tbody>\n",
       "    <tr>\n",
       "      <th>61</th>\n",
       "      <td>progressive greetings month students set pens ...</td>\n",
       "      <td>0</td>\n",
       "    </tr>\n",
       "    <tr>\n",
       "      <th>1751</th>\n",
       "      <td>baltimore city north fort mchenry tunnel bore ...</td>\n",
       "      <td>1</td>\n",
       "    </tr>\n",
       "    <tr>\n",
       "      <th>7515</th>\n",
       "      <td>malaysia confirms wreckage belongs http kacrlp...</td>\n",
       "      <td>1</td>\n",
       "    </tr>\n",
       "    <tr>\n",
       "      <th>6950</th>\n",
       "      <td>crptotech tsunami banks http khztevedja bankin...</td>\n",
       "      <td>1</td>\n",
       "    </tr>\n",
       "    <tr>\n",
       "      <th>6034</th>\n",
       "      <td>kakajambori control future india yor subject e...</td>\n",
       "      <td>0</td>\n",
       "    </tr>\n",
       "  </tbody>\n",
       "</table>\n",
       "</div>"
      ],
      "text/plain": [
       "                                                   text  target\n",
       "61    progressive greetings month students set pens ...       0\n",
       "1751  baltimore city north fort mchenry tunnel bore ...       1\n",
       "7515  malaysia confirms wreckage belongs http kacrlp...       1\n",
       "6950  crptotech tsunami banks http khztevedja bankin...       1\n",
       "6034  kakajambori control future india yor subject e...       0"
      ]
     },
     "execution_count": 22,
     "metadata": {},
     "output_type": "execute_result"
    }
   ],
   "source": [
    "from sklearn.utils import shuffle\n",
    "Tweet_df_shuffled = shuffle(Tweet_df)\n",
    "Tweet_df_shuffled.head()"
   ]
  },
  {
   "cell_type": "markdown",
   "id": "54c03afd",
   "metadata": {
    "papermill": {
     "duration": 0.041102,
     "end_time": "2021-12-12T14:39:18.199137",
     "exception": false,
     "start_time": "2021-12-12T14:39:18.158035",
     "status": "completed"
    },
    "tags": []
   },
   "source": [
    "## **split Dataset**"
   ]
  },
  {
   "cell_type": "code",
   "execution_count": 23,
   "id": "bd521733",
   "metadata": {
    "execution": {
     "iopub.execute_input": "2021-12-12T14:39:18.287342Z",
     "iopub.status.busy": "2021-12-12T14:39:18.286675Z",
     "iopub.status.idle": "2021-12-12T14:39:18.298249Z",
     "shell.execute_reply": "2021-12-12T14:39:18.297779Z",
     "shell.execute_reply.started": "2021-12-12T14:26:55.750194Z"
    },
    "papermill": {
     "duration": 0.058942,
     "end_time": "2021-12-12T14:39:18.298386",
     "exception": false,
     "start_time": "2021-12-12T14:39:18.239444",
     "status": "completed"
    },
    "tags": []
   },
   "outputs": [],
   "source": [
    "X = Tweet_df_shuffled['text']\n",
    "y = Tweet_df_shuffled['target']\n",
    "X_train, X_test, y_train, y_test = train_test_split(X, y, test_size=0.2, random_state = 42, stratify = y)"
   ]
  },
  {
   "cell_type": "markdown",
   "id": "6fc0a96e",
   "metadata": {
    "papermill": {
     "duration": 0.03771,
     "end_time": "2021-12-12T14:39:18.376682",
     "exception": false,
     "start_time": "2021-12-12T14:39:18.338972",
     "status": "completed"
    },
    "tags": []
   },
   "source": [
    "## Text-Representations - TF-IDF"
   ]
  },
  {
   "cell_type": "code",
   "execution_count": 24,
   "id": "aebcd2c4",
   "metadata": {
    "execution": {
     "iopub.execute_input": "2021-12-12T14:39:18.514182Z",
     "iopub.status.busy": "2021-12-12T14:39:18.499574Z",
     "iopub.status.idle": "2021-12-12T14:39:18.612228Z",
     "shell.execute_reply": "2021-12-12T14:39:18.612719Z",
     "shell.execute_reply.started": "2021-12-12T14:26:55.767163Z"
    },
    "papermill": {
     "duration": 0.198016,
     "end_time": "2021-12-12T14:39:18.612883",
     "exception": false,
     "start_time": "2021-12-12T14:39:18.414867",
     "status": "completed"
    },
    "tags": []
   },
   "outputs": [
    {
     "name": "stdout",
     "output_type": "stream",
     "text": [
      "accuracy 0.7946843853820598\n"
     ]
    }
   ],
   "source": [
    "from sklearn.model_selection import cross_val_score\n",
    "nb_classifier = Pipeline([('vect', CountVectorizer()),\n",
    "               ('tfidf', TfidfTransformer()),\n",
    "               ('clf', MultinomialNB()),])\n",
    "\n",
    "nb_classifier.fit(X_train, y_train)\n",
    "\n",
    "y_pred = nb_classifier.predict(X_test)\n",
    "print('accuracy {}'.format(accuracy_score(y_pred, y_test)))"
   ]
  },
  {
   "cell_type": "code",
   "execution_count": 25,
   "id": "cd830443",
   "metadata": {
    "execution": {
     "iopub.execute_input": "2021-12-12T14:39:18.726516Z",
     "iopub.status.busy": "2021-12-12T14:39:18.705900Z",
     "iopub.status.idle": "2021-12-12T14:39:19.526593Z",
     "shell.execute_reply": "2021-12-12T14:39:19.527155Z",
     "shell.execute_reply.started": "2021-12-12T14:26:55.925529Z"
    },
    "papermill": {
     "duration": 0.87373,
     "end_time": "2021-12-12T14:39:19.527359",
     "exception": false,
     "start_time": "2021-12-12T14:39:18.653629",
     "status": "completed"
    },
    "tags": []
   },
   "outputs": [
    {
     "name": "stdout",
     "output_type": "stream",
     "text": [
      "accuracy 0.770764119601329\n"
     ]
    }
   ],
   "source": [
    "sgd = Pipeline([('vect', CountVectorizer()),\n",
    "                ('tfidf', TfidfTransformer()),\n",
    "                ('clf', SGDClassifier(loss='epsilon_insensitive', penalty='l2',alpha=1e-3, random_state=42, max_iter=1000, tol=None)),])\n",
    "\n",
    "\n",
    "sgd.fit(X_train, y_train)\n",
    "y_pred = sgd.predict(X_test)\n",
    "print('accuracy {}'.format(accuracy_score(y_pred, y_test)))"
   ]
  },
  {
   "cell_type": "markdown",
   "id": "8b657dc3",
   "metadata": {
    "papermill": {
     "duration": 0.037713,
     "end_time": "2021-12-12T14:39:19.602992",
     "exception": false,
     "start_time": "2021-12-12T14:39:19.565279",
     "status": "completed"
    },
    "tags": []
   },
   "source": [
    "## **Another solution**"
   ]
  },
  {
   "cell_type": "code",
   "execution_count": 26,
   "id": "af78130b",
   "metadata": {
    "execution": {
     "iopub.execute_input": "2021-12-12T14:39:19.685111Z",
     "iopub.status.busy": "2021-12-12T14:39:19.684374Z",
     "iopub.status.idle": "2021-12-12T14:39:19.688844Z",
     "shell.execute_reply": "2021-12-12T14:39:19.688377Z",
     "shell.execute_reply.started": "2021-12-12T14:27:44.892977Z"
    },
    "papermill": {
     "duration": 0.049957,
     "end_time": "2021-12-12T14:39:19.688961",
     "exception": false,
     "start_time": "2021-12-12T14:39:19.639004",
     "status": "completed"
    },
    "tags": []
   },
   "outputs": [
    {
     "data": {
      "text/html": [
       "<div>\n",
       "<style scoped>\n",
       "    .dataframe tbody tr th:only-of-type {\n",
       "        vertical-align: middle;\n",
       "    }\n",
       "\n",
       "    .dataframe tbody tr th {\n",
       "        vertical-align: top;\n",
       "    }\n",
       "\n",
       "    .dataframe thead th {\n",
       "        text-align: right;\n",
       "    }\n",
       "</style>\n",
       "<table border=\"1\" class=\"dataframe\">\n",
       "  <thead>\n",
       "    <tr style=\"text-align: right;\">\n",
       "      <th></th>\n",
       "      <th>id</th>\n",
       "      <th>keyword</th>\n",
       "      <th>location</th>\n",
       "      <th>text</th>\n",
       "      <th>target</th>\n",
       "    </tr>\n",
       "  </thead>\n",
       "  <tbody>\n",
       "    <tr>\n",
       "      <th>0</th>\n",
       "      <td>1</td>\n",
       "      <td>NaN</td>\n",
       "      <td>NaN</td>\n",
       "      <td>Our Deeds are the Reason of this #earthquake M...</td>\n",
       "      <td>1</td>\n",
       "    </tr>\n",
       "    <tr>\n",
       "      <th>1</th>\n",
       "      <td>4</td>\n",
       "      <td>NaN</td>\n",
       "      <td>NaN</td>\n",
       "      <td>Forest fire near La Ronge Sask. Canada</td>\n",
       "      <td>1</td>\n",
       "    </tr>\n",
       "    <tr>\n",
       "      <th>2</th>\n",
       "      <td>5</td>\n",
       "      <td>NaN</td>\n",
       "      <td>NaN</td>\n",
       "      <td>All residents asked to 'shelter in place' are ...</td>\n",
       "      <td>1</td>\n",
       "    </tr>\n",
       "    <tr>\n",
       "      <th>3</th>\n",
       "      <td>6</td>\n",
       "      <td>NaN</td>\n",
       "      <td>NaN</td>\n",
       "      <td>13,000 people receive #wildfires evacuation or...</td>\n",
       "      <td>1</td>\n",
       "    </tr>\n",
       "    <tr>\n",
       "      <th>4</th>\n",
       "      <td>7</td>\n",
       "      <td>NaN</td>\n",
       "      <td>NaN</td>\n",
       "      <td>Just got sent this photo from Ruby #Alaska as ...</td>\n",
       "      <td>1</td>\n",
       "    </tr>\n",
       "  </tbody>\n",
       "</table>\n",
       "</div>"
      ],
      "text/plain": [
       "   id keyword location                                               text  \\\n",
       "0   1     NaN      NaN  Our Deeds are the Reason of this #earthquake M...   \n",
       "1   4     NaN      NaN             Forest fire near La Ronge Sask. Canada   \n",
       "2   5     NaN      NaN  All residents asked to 'shelter in place' are ...   \n",
       "3   6     NaN      NaN  13,000 people receive #wildfires evacuation or...   \n",
       "4   7     NaN      NaN  Just got sent this photo from Ruby #Alaska as ...   \n",
       "\n",
       "   target  \n",
       "0       1  \n",
       "1       1  \n",
       "2       1  \n",
       "3       1  \n",
       "4       1  "
      ]
     },
     "execution_count": 26,
     "metadata": {},
     "output_type": "execute_result"
    }
   ],
   "source": [
    "Tweet_d_copy.head()\n"
   ]
  },
  {
   "cell_type": "code",
   "execution_count": 27,
   "id": "16250e8a",
   "metadata": {
    "execution": {
     "iopub.execute_input": "2021-12-12T14:39:19.768357Z",
     "iopub.status.busy": "2021-12-12T14:39:19.767850Z",
     "iopub.status.idle": "2021-12-12T14:39:19.772289Z",
     "shell.execute_reply": "2021-12-12T14:39:19.772651Z",
     "shell.execute_reply.started": "2021-12-12T14:28:35.092357Z"
    },
    "papermill": {
     "duration": 0.047072,
     "end_time": "2021-12-12T14:39:19.772820",
     "exception": false,
     "start_time": "2021-12-12T14:39:19.725748",
     "status": "completed"
    },
    "tags": []
   },
   "outputs": [
    {
     "data": {
      "text/plain": [
       "61"
      ]
     },
     "execution_count": 27,
     "metadata": {},
     "output_type": "execute_result"
    }
   ],
   "source": [
    "Tweet_d_copy['keyword'].isna().sum()"
   ]
  },
  {
   "cell_type": "code",
   "execution_count": 28,
   "id": "70b85949",
   "metadata": {
    "execution": {
     "iopub.execute_input": "2021-12-12T14:39:19.851999Z",
     "iopub.status.busy": "2021-12-12T14:39:19.851341Z",
     "iopub.status.idle": "2021-12-12T14:39:19.854846Z",
     "shell.execute_reply": "2021-12-12T14:39:19.854362Z",
     "shell.execute_reply.started": "2021-12-12T14:29:01.830998Z"
    },
    "papermill": {
     "duration": 0.045114,
     "end_time": "2021-12-12T14:39:19.854957",
     "exception": false,
     "start_time": "2021-12-12T14:39:19.809843",
     "status": "completed"
    },
    "tags": []
   },
   "outputs": [],
   "source": [
    "# As a test, I'll fill the NA for the keyword column with 'neutral'\n",
    "Tweet_d_copy['keyword'].fillna('neutral', inplace = True)"
   ]
  },
  {
   "cell_type": "code",
   "execution_count": 29,
   "id": "c2753898",
   "metadata": {
    "execution": {
     "iopub.execute_input": "2021-12-12T14:39:19.940254Z",
     "iopub.status.busy": "2021-12-12T14:39:19.938333Z",
     "iopub.status.idle": "2021-12-12T14:39:19.942712Z",
     "shell.execute_reply": "2021-12-12T14:39:19.943227Z",
     "shell.execute_reply.started": "2021-12-12T14:29:44.440997Z"
    },
    "papermill": {
     "duration": 0.05123,
     "end_time": "2021-12-12T14:39:19.943399",
     "exception": false,
     "start_time": "2021-12-12T14:39:19.892169",
     "status": "completed"
    },
    "tags": []
   },
   "outputs": [],
   "source": [
    "# I wont use the location column so I will drop it\n",
    "Tweet_d_copy.drop(['location', 'id'], inplace = True, axis =1)"
   ]
  },
  {
   "cell_type": "code",
   "execution_count": 30,
   "id": "e60571f0",
   "metadata": {
    "execution": {
     "iopub.execute_input": "2021-12-12T14:39:20.041621Z",
     "iopub.status.busy": "2021-12-12T14:39:20.040648Z",
     "iopub.status.idle": "2021-12-12T14:39:20.047295Z",
     "shell.execute_reply": "2021-12-12T14:39:20.047880Z",
     "shell.execute_reply.started": "2021-12-12T14:30:31.329734Z"
    },
    "papermill": {
     "duration": 0.060795,
     "end_time": "2021-12-12T14:39:20.048044",
     "exception": false,
     "start_time": "2021-12-12T14:39:19.987249",
     "status": "completed"
    },
    "tags": []
   },
   "outputs": [
    {
     "data": {
      "text/plain": [
       "((6851, 2), (762, 2), (6851,), (762,))"
      ]
     },
     "execution_count": 30,
     "metadata": {},
     "output_type": "execute_result"
    }
   ],
   "source": [
    "X =  Tweet_d_copy[['keyword', 'text']]\n",
    "y = Tweet_d_copy.target.values\n",
    "\n",
    "# Train test Split\n",
    "X_train, X_test, y_train, y_test = train_test_split(X, y, test_size = 0.1, random_state = 11)\n",
    "\n",
    "X_train.shape, X_test.shape, y_train.shape, y_test.shape"
   ]
  },
  {
   "cell_type": "markdown",
   "id": "1214b0b1",
   "metadata": {
    "papermill": {
     "duration": 0.045905,
     "end_time": "2021-12-12T14:39:20.139332",
     "exception": false,
     "start_time": "2021-12-12T14:39:20.093427",
     "status": "completed"
    },
    "tags": []
   },
   "source": [
    "## **Keras model with word embeddings**"
   ]
  },
  {
   "cell_type": "code",
   "execution_count": 31,
   "id": "756a940f",
   "metadata": {
    "execution": {
     "iopub.execute_input": "2021-12-12T14:39:20.232609Z",
     "iopub.status.busy": "2021-12-12T14:39:20.231810Z",
     "iopub.status.idle": "2021-12-12T14:39:29.283047Z",
     "shell.execute_reply": "2021-12-12T14:39:29.282442Z",
     "shell.execute_reply.started": "2021-12-12T14:35:49.108086Z"
    },
    "papermill": {
     "duration": 9.099941,
     "end_time": "2021-12-12T14:39:29.283199",
     "exception": false,
     "start_time": "2021-12-12T14:39:20.183258",
     "status": "completed"
    },
    "tags": []
   },
   "outputs": [],
   "source": [
    "import spacy\n",
    "import cupy\n",
    "from sklearn.preprocessing import StandardScaler\n",
    "import tensorflow as tf\n",
    "from sklearn.metrics import classification_report"
   ]
  },
  {
   "cell_type": "code",
   "execution_count": 32,
   "id": "18a4a476",
   "metadata": {
    "execution": {
     "iopub.execute_input": "2021-12-12T14:39:29.366740Z",
     "iopub.status.busy": "2021-12-12T14:39:29.365835Z",
     "iopub.status.idle": "2021-12-12T14:39:34.773371Z",
     "shell.execute_reply": "2021-12-12T14:39:34.772526Z",
     "shell.execute_reply.started": "2021-12-12T14:31:38.895731Z"
    },
    "papermill": {
     "duration": 5.44969,
     "end_time": "2021-12-12T14:39:34.773508",
     "exception": false,
     "start_time": "2021-12-12T14:39:29.323818",
     "status": "completed"
    },
    "tags": []
   },
   "outputs": [],
   "source": [
    "# Need to load the large model to get the vectors\n",
    "nlp = spacy.load('en_core_web_lg')"
   ]
  },
  {
   "cell_type": "markdown",
   "id": "95df22bc",
   "metadata": {
    "papermill": {
     "duration": 0.037276,
     "end_time": "2021-12-12T14:39:34.849192",
     "exception": false,
     "start_time": "2021-12-12T14:39:34.811916",
     "status": "completed"
    },
    "tags": []
   },
   "source": [
    "## **Function for making the embeddings**"
   ]
  },
  {
   "cell_type": "code",
   "execution_count": 33,
   "id": "62f3a0bd",
   "metadata": {
    "execution": {
     "iopub.execute_input": "2021-12-12T14:39:34.934936Z",
     "iopub.status.busy": "2021-12-12T14:39:34.933808Z",
     "iopub.status.idle": "2021-12-12T14:39:34.935844Z",
     "shell.execute_reply": "2021-12-12T14:39:34.936379Z",
     "shell.execute_reply.started": "2021-12-12T14:32:23.560802Z"
    },
    "papermill": {
     "duration": 0.050226,
     "end_time": "2021-12-12T14:39:34.936534",
     "exception": false,
     "start_time": "2021-12-12T14:39:34.886308",
     "status": "completed"
    },
    "tags": []
   },
   "outputs": [],
   "source": [
    "def make_embedding(texts):\n",
    "\n",
    "    with nlp.disable_pipes():\n",
    "        embeddings = [cupy.asnumpy(nlp(text).vector) for text in texts]\n",
    "        embeddings = np.array(embeddings)\n",
    "        \n",
    "        return embeddings"
   ]
  },
  {
   "cell_type": "code",
   "execution_count": 34,
   "id": "fec552b5",
   "metadata": {
    "execution": {
     "iopub.execute_input": "2021-12-12T14:39:35.029055Z",
     "iopub.status.busy": "2021-12-12T14:39:35.028101Z",
     "iopub.status.idle": "2021-12-12T14:39:35.030887Z",
     "shell.execute_reply": "2021-12-12T14:39:35.030392Z",
     "shell.execute_reply.started": "2021-12-12T14:32:39.333194Z"
    },
    "papermill": {
     "duration": 0.05158,
     "end_time": "2021-12-12T14:39:35.031019",
     "exception": false,
     "start_time": "2021-12-12T14:39:34.979439",
     "status": "completed"
    },
    "tags": []
   },
   "outputs": [],
   "source": [
    "# make the embeddings on the train data and process it\n",
    "def process_train(train):\n",
    "    train = make_embedding(train)\n",
    "    \n",
    "    mean = train.mean(axis = 0)\n",
    "    train = train - mean\n",
    "    \n",
    "    scaler = StandardScaler()\n",
    "    scaler.fit(train)\n",
    "    \n",
    "    train = scaler.transform(train)\n",
    "    \n",
    "    return scaler,mean, train"
   ]
  },
  {
   "cell_type": "code",
   "execution_count": 35,
   "id": "329dcb89",
   "metadata": {
    "execution": {
     "iopub.execute_input": "2021-12-12T14:39:35.130567Z",
     "iopub.status.busy": "2021-12-12T14:39:35.124712Z",
     "iopub.status.idle": "2021-12-12T14:40:58.677022Z",
     "shell.execute_reply": "2021-12-12T14:40:58.676094Z",
     "shell.execute_reply.started": "2021-12-12T14:33:23.576201Z"
    },
    "papermill": {
     "duration": 83.601066,
     "end_time": "2021-12-12T14:40:58.677175",
     "exception": false,
     "start_time": "2021-12-12T14:39:35.076109",
     "status": "completed"
    },
    "tags": []
   },
   "outputs": [],
   "source": [
    "txt_scaler, txt_mean, train_txt= process_train(X_train.text.values)\n",
    "kw_scaler, kw_mean, train_kw = process_train(X_train.keyword.values)\n",
    "\n",
    "train_data = np.array(list(zip(train_txt,train_kw)))"
   ]
  },
  {
   "cell_type": "code",
   "execution_count": 36,
   "id": "71d5ef57",
   "metadata": {
    "execution": {
     "iopub.execute_input": "2021-12-12T14:40:58.757405Z",
     "iopub.status.busy": "2021-12-12T14:40:58.755786Z",
     "iopub.status.idle": "2021-12-12T14:40:58.757995Z",
     "shell.execute_reply": "2021-12-12T14:40:58.758402Z",
     "shell.execute_reply.started": "2021-12-12T14:34:45.678802Z"
    },
    "papermill": {
     "duration": 0.043628,
     "end_time": "2021-12-12T14:40:58.758530",
     "exception": false,
     "start_time": "2021-12-12T14:40:58.714902",
     "status": "completed"
    },
    "tags": []
   },
   "outputs": [],
   "source": [
    "def process_texts( scaler, texts, mean):\n",
    "    # Create the text embedding\n",
    "    texts = make_embedding(texts)\n",
    "    \n",
    "    # Center the embedding by substracting the mean of the train data\n",
    "    texts = texts - mean\n",
    "    \n",
    "    # Scale the data with sklearn's standardScaler fitted on the train data\n",
    "    texts = scaler.transform(texts)\n",
    "    \n",
    "    return texts"
   ]
  },
  {
   "cell_type": "code",
   "execution_count": 37,
   "id": "543fdbd6",
   "metadata": {
    "execution": {
     "iopub.execute_input": "2021-12-12T14:40:58.837647Z",
     "iopub.status.busy": "2021-12-12T14:40:58.836862Z",
     "iopub.status.idle": "2021-12-12T14:41:08.291412Z",
     "shell.execute_reply": "2021-12-12T14:41:08.291829Z",
     "shell.execute_reply.started": "2021-12-12T14:35:02.511710Z"
    },
    "papermill": {
     "duration": 9.496447,
     "end_time": "2021-12-12T14:41:08.291984",
     "exception": false,
     "start_time": "2021-12-12T14:40:58.795537",
     "status": "completed"
    },
    "tags": []
   },
   "outputs": [
    {
     "data": {
      "text/plain": [
       "(762, 2, 300)"
      ]
     },
     "execution_count": 37,
     "metadata": {},
     "output_type": "execute_result"
    }
   ],
   "source": [
    "val_txt = process_texts( txt_scaler, X_test.text.values, txt_mean)\n",
    "val_kw = process_texts( kw_scaler, X_test.keyword.values, kw_mean)\n",
    "\n",
    "val_data = np.array(list(zip(val_txt,val_kw)))\n",
    "val_data.shape"
   ]
  },
  {
   "cell_type": "code",
   "execution_count": 38,
   "id": "487875af",
   "metadata": {
    "execution": {
     "iopub.execute_input": "2021-12-12T14:41:08.373313Z",
     "iopub.status.busy": "2021-12-12T14:41:08.372781Z",
     "iopub.status.idle": "2021-12-12T14:41:16.935461Z",
     "shell.execute_reply": "2021-12-12T14:41:16.934998Z",
     "shell.execute_reply.started": "2021-12-12T14:35:19.862369Z"
    },
    "papermill": {
     "duration": 8.605929,
     "end_time": "2021-12-12T14:41:16.935583",
     "exception": false,
     "start_time": "2021-12-12T14:41:08.329654",
     "status": "completed"
    },
    "tags": []
   },
   "outputs": [
    {
     "name": "stderr",
     "output_type": "stream",
     "text": [
      "2021-12-12 14:41:09.255401: I tensorflow/stream_executor/cuda/cuda_gpu_executor.cc:937] successful NUMA node read from SysFS had negative value (-1), but there must be at least one NUMA node, so returning NUMA node zero\n",
      "2021-12-12 14:41:09.256803: I tensorflow/stream_executor/cuda/cuda_gpu_executor.cc:937] successful NUMA node read from SysFS had negative value (-1), but there must be at least one NUMA node, so returning NUMA node zero\n",
      "2021-12-12 14:41:09.257458: I tensorflow/stream_executor/cuda/cuda_gpu_executor.cc:937] successful NUMA node read from SysFS had negative value (-1), but there must be at least one NUMA node, so returning NUMA node zero\n",
      "2021-12-12 14:41:09.258291: I tensorflow/core/platform/cpu_feature_guard.cc:142] This TensorFlow binary is optimized with oneAPI Deep Neural Network Library (oneDNN) to use the following CPU instructions in performance-critical operations:  AVX2 AVX512F FMA\n",
      "To enable them in other operations, rebuild TensorFlow with the appropriate compiler flags.\n",
      "2021-12-12 14:41:09.259401: I tensorflow/stream_executor/cuda/cuda_gpu_executor.cc:937] successful NUMA node read from SysFS had negative value (-1), but there must be at least one NUMA node, so returning NUMA node zero\n",
      "2021-12-12 14:41:09.260098: I tensorflow/stream_executor/cuda/cuda_gpu_executor.cc:937] successful NUMA node read from SysFS had negative value (-1), but there must be at least one NUMA node, so returning NUMA node zero\n",
      "2021-12-12 14:41:09.260776: I tensorflow/stream_executor/cuda/cuda_gpu_executor.cc:937] successful NUMA node read from SysFS had negative value (-1), but there must be at least one NUMA node, so returning NUMA node zero\n",
      "2021-12-12 14:41:16.455926: I tensorflow/stream_executor/cuda/cuda_gpu_executor.cc:937] successful NUMA node read from SysFS had negative value (-1), but there must be at least one NUMA node, so returning NUMA node zero\n",
      "2021-12-12 14:41:16.457336: I tensorflow/stream_executor/cuda/cuda_gpu_executor.cc:937] successful NUMA node read from SysFS had negative value (-1), but there must be at least one NUMA node, so returning NUMA node zero\n",
      "2021-12-12 14:41:16.458597: I tensorflow/stream_executor/cuda/cuda_gpu_executor.cc:937] successful NUMA node read from SysFS had negative value (-1), but there must be at least one NUMA node, so returning NUMA node zero\n",
      "2021-12-12 14:41:16.459676: I tensorflow/core/common_runtime/gpu/gpu_device.cc:1510] Created device /job:localhost/replica:0/task:0/device:GPU:0 with 14589 MB memory:  -> device: 0, name: Tesla P100-PCIE-16GB, pci bus id: 0000:00:04.0, compute capability: 6.0\n"
     ]
    }
   ],
   "source": [
    "keras_clf = tf.keras.Sequential([\n",
    "    tf.keras.layers.Flatten(input_shape=(2, 300)),\n",
    "    tf.keras.layers.Dropout(0.2),\n",
    "   # tf.keras.layers.Dense(300, activation='relu'),\n",
    "   # tf.keras.layers.Dropout(0.5),\n",
    "    tf.keras.layers.Dense(128, activation='relu'),\n",
    "    tf.keras.layers.Dropout(0.6),\n",
    "    tf.keras.layers.Dense(64, activation='relu'),\n",
    "    tf.keras.layers.Dropout(0.4),\n",
    "    tf.keras.layers.Dense(2, activation=\"softmax\")\n",
    "])\n",
    "\n",
    "keras_clf.compile(optimizer='adam',\n",
    "              loss=tf.keras.losses.SparseCategoricalCrossentropy(from_logits=False),\n",
    "              metrics=['accuracy'])"
   ]
  },
  {
   "cell_type": "code",
   "execution_count": 39,
   "id": "fe45f381",
   "metadata": {
    "execution": {
     "iopub.execute_input": "2021-12-12T14:41:17.016468Z",
     "iopub.status.busy": "2021-12-12T14:41:17.014899Z",
     "iopub.status.idle": "2021-12-12T14:41:17.017055Z",
     "shell.execute_reply": "2021-12-12T14:41:17.017443Z",
     "shell.execute_reply.started": "2021-12-12T14:35:21.258695Z"
    },
    "papermill": {
     "duration": 0.044344,
     "end_time": "2021-12-12T14:41:17.017562",
     "exception": false,
     "start_time": "2021-12-12T14:41:16.973218",
     "status": "completed"
    },
    "tags": []
   },
   "outputs": [],
   "source": [
    "def keras_model_predict(texts):\n",
    "    preds = keras_clf.predict(texts)\n",
    "    preds = [a.argmax() for a in preds]\n",
    "    \n",
    "    return preds"
   ]
  },
  {
   "cell_type": "code",
   "execution_count": 40,
   "id": "fdcdb111",
   "metadata": {
    "execution": {
     "iopub.execute_input": "2021-12-12T14:41:17.100000Z",
     "iopub.status.busy": "2021-12-12T14:41:17.099058Z",
     "iopub.status.idle": "2021-12-12T14:41:18.590768Z",
     "shell.execute_reply": "2021-12-12T14:41:18.591387Z",
     "shell.execute_reply.started": "2021-12-12T14:36:11.834081Z"
    },
    "papermill": {
     "duration": 1.535476,
     "end_time": "2021-12-12T14:41:18.591586",
     "exception": false,
     "start_time": "2021-12-12T14:41:17.056110",
     "status": "completed"
    },
    "tags": []
   },
   "outputs": [
    {
     "name": "stderr",
     "output_type": "stream",
     "text": [
      "2021-12-12 14:41:17.186324: I tensorflow/compiler/mlir/mlir_graph_optimization_pass.cc:185] None of the MLIR Optimization Passes are enabled (registered 2)\n"
     ]
    },
    {
     "name": "stdout",
     "output_type": "stream",
     "text": [
      "              precision    recall  f1-score   support\n",
      "\n",
      "not_disaster       0.63      0.03      0.05      3904\n",
      "    disaster       0.43      0.98      0.60      2947\n",
      "\n",
      "    accuracy                           0.44      6851\n",
      "   macro avg       0.53      0.50      0.33      6851\n",
      "weighted avg       0.55      0.44      0.29      6851\n",
      "\n"
     ]
    }
   ],
   "source": [
    "keras_train_preds = keras_model_predict(train_data)\n",
    "print(classification_report(y_train, keras_train_preds, target_names=['not_disaster', 'disaster']))"
   ]
  },
  {
   "cell_type": "code",
   "execution_count": null,
   "id": "1e655582",
   "metadata": {
    "papermill": {
     "duration": 0.038471,
     "end_time": "2021-12-12T14:41:18.669704",
     "exception": false,
     "start_time": "2021-12-12T14:41:18.631233",
     "status": "completed"
    },
    "tags": []
   },
   "outputs": [],
   "source": []
  }
 ],
 "metadata": {
  "kernelspec": {
   "display_name": "Python 3",
   "language": "python",
   "name": "python3"
  },
  "language_info": {
   "codemirror_mode": {
    "name": "ipython",
    "version": 3
   },
   "file_extension": ".py",
   "mimetype": "text/x-python",
   "name": "python",
   "nbconvert_exporter": "python",
   "pygments_lexer": "ipython3",
   "version": "3.7.12"
  },
  "papermill": {
   "default_parameters": {},
   "duration": 136.477701,
   "end_time": "2021-12-12T14:41:22.166512",
   "environment_variables": {},
   "exception": null,
   "input_path": "__notebook__.ipynb",
   "output_path": "__notebook__.ipynb",
   "parameters": {},
   "start_time": "2021-12-12T14:39:05.688811",
   "version": "2.3.3"
  }
 },
 "nbformat": 4,
 "nbformat_minor": 5
}
